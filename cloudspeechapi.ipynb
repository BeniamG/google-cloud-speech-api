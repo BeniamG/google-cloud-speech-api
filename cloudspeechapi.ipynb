{
 "cells": [
  {
   "cell_type": "markdown",
   "metadata": {},
   "source": [
    "# Google Cloud Speech API Text"
   ]
  },
  {
   "cell_type": "markdown",
   "metadata": {},
   "source": [
    "This is an attempt to utilize the Google Cloud Speech API to convert an audio file to text.\n",
    "\n",
    "Google Cloud Speech API reqiures \n",
    "\n",
    "Important references:\n",
    "1. Google Documentation\n",
    "    1. [Google's overview of documnetation](https://cloud.google.com/speech/docs/)\n",
    "    1. [Google Cloud Speech Quickstart Guide](https://cloud.google.com/speech/docs/getting-started) \n",
    "2. Helpful Examples\n",
    "    1. [Digital Inspiration Tutorial](https://ctrlq.org/code/20280-google-cloud-speech-api)\n",
    "3. Audio Converters (AAC - FLAC)\n",
    "    1. [Make Use Of Review](http://www.makeuseof.com/tag/audio-converters-for-mac-max-vs-xld/)\n",
    "    2. [VLC seems to work](https://www.videolan.org/vlc/features.html)"
   ]
  },
  {
   "cell_type": "code",
   "execution_count": null,
   "metadata": {
    "collapsed": true
   },
   "outputs": [],
   "source": []
  }
 ],
 "metadata": {
  "anaconda-cloud": {},
  "kernelspec": {
   "display_name": "Python [default]",
   "language": "python",
   "name": "python3"
  },
  "language_info": {
   "codemirror_mode": {
    "name": "ipython",
    "version": 3
   },
   "file_extension": ".py",
   "mimetype": "text/x-python",
   "name": "python",
   "nbconvert_exporter": "python",
   "pygments_lexer": "ipython3",
   "version": "3.5.2"
  }
 },
 "nbformat": 4,
 "nbformat_minor": 1
}
